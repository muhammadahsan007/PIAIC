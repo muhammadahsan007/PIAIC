{
 "cells": [
  {
   "cell_type": "code",
   "execution_count": 1,
   "metadata": {},
   "outputs": [
    {
     "name": "stdout",
     "output_type": "stream",
     "text": [
      "Name Of City:  Karachi\n",
      "City is Islamabad:  False\n",
      "Name Of City:  Islamabad\n",
      "City is Islamabad:  True\n",
      "Name Of City:  Lahore\n",
      "City is Islamabad:  False\n",
      "Name Of City:  Gilgit\n",
      "City is Islamabad:  False\n"
     ]
    }
   ],
   "source": [
    "cities = [\"Karachi\", \"Islamabad\", \"Lahore\", \"Gilgit\"]\n",
    "\n",
    "for city in cities:\n",
    "    print(\"Name Of City: \", city)\n",
    "    print(\"City is Islamabad: \", city in (\"Islamabad\"))\n",
    "    "
   ]
  },
  {
   "cell_type": "code",
   "execution_count": 2,
   "metadata": {},
   "outputs": [
    {
     "name": "stdout",
     "output_type": "stream",
     "text": [
      "*-------------------------------*\n",
      "First Child Name is:  Yousuf Ahsan\n",
      "Second Child Name is:  Fareed Ahsan\n",
      "Third Child Name is:  Hassan Ahsan\n",
      "Fourth Child Name is:  Faraz Ahsan\n",
      "*-------------------------------*\n",
      "First Child Name is:  Yousuf Fazal\n",
      "Second Child Name is:  Fareed Fazal\n",
      "Third Child Name is:  Hassan Fazal\n",
      "Fourth Child Name is:  Faraz Fazal\n",
      "*-------------------------------*\n",
      "First Child Name is:  Yousuf Ali\n",
      "Second Child Name is:  Fareed Ali\n",
      "Third Child Name is:  Hassan Ali\n",
      "Fourth Child Name is:  Faraz Ali\n",
      "*-------------------------------*\n",
      "First Child Name is:  Yousuf Usman\n",
      "Second Child Name is:  Fareed Usman\n",
      "Third Child Name is:  Hassan Usman\n",
      "Fourth Child Name is:  Faraz Usman\n"
     ]
    }
   ],
   "source": [
    "father_names = [\"Ahsan\", \"Fazal\", \"Ali\", \"Usman\"]\n",
    "children_names = [\"Yousuf\", \"Fareed\", \"Hassan\", \"Faraz\"]\n",
    "\n",
    "full_name = []\n",
    "start = 0\n",
    "for father_name in father_names:\n",
    "    for children_name in children_names:\n",
    "        full_name.append(children_name + \" \" + father_name)\n",
    "    print(\"*-------------------------------*\")  \n",
    "    print(\"First Child Name is: \", full_name[start])\n",
    "    print(\"Second Child Name is: \", full_name[start+1])\n",
    "    print(\"Third Child Name is: \", full_name[start+2])\n",
    "    print(\"Fourth Child Name is: \", full_name[-1])\n",
    "    start +=4\n",
    "    "
   ]
  },
  {
   "cell_type": "code",
   "execution_count": 10,
   "metadata": {},
   "outputs": [
    {
     "name": "stdout",
     "output_type": "stream",
     "text": [
      "_______________\n",
      "KARACHI\n",
      "karachi\n",
      "Karachi\n",
      "_______________\n",
      "ISLAMABAD\n",
      "islamabad\n",
      "Islamabad\n",
      "_______________\n",
      "PESHAWAR\n",
      "peshawar\n",
      "Peshawar\n",
      "_______________\n",
      "LAHORE\n",
      "lahore\n",
      "Lahore\n"
     ]
    }
   ],
   "source": [
    "cities = [\"Karachi\", \"Islamabad\", \"Peshawar\", \"Lahore\"]\n",
    "\n",
    "for clean_city in cities:\n",
    "    print(\"_______________\")\n",
    "    print(clean_city.upper())\n",
    "    print(clean_city.lower())\n",
    "    print(clean_city.title())"
   ]
  },
  {
   "cell_type": "code",
   "execution_count": null,
   "metadata": {},
   "outputs": [],
   "source": []
  }
 ],
 "metadata": {
  "kernelspec": {
   "display_name": "Python 3",
   "language": "python",
   "name": "python3"
  },
  "language_info": {
   "codemirror_mode": {
    "name": "ipython",
    "version": 3
   },
   "file_extension": ".py",
   "mimetype": "text/x-python",
   "name": "python",
   "nbconvert_exporter": "python",
   "pygments_lexer": "ipython3",
   "version": "3.7.3"
  }
 },
 "nbformat": 4,
 "nbformat_minor": 2
}
