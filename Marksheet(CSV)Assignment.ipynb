{
 "cells": [
  {
   "cell_type": "code",
   "execution_count": 1,
   "metadata": {},
   "outputs": [
    {
     "name": "stdout",
     "output_type": "stream",
     "text": [
      "------------Marksheet-----------\n",
      "Enter Your Name \tMuhammad Ahsan\n",
      "Enter your English marks \t67.5\n",
      "Enter your Urdu marks \t74.65\n",
      "Enter your Maths marks \t99\n",
      "Enter your Chemistry marks \t67.55\n",
      "Enter your Physics marks \t85.55\n",
      "Student obtain marks 394.25\n",
      "Percentage: 78.85\n",
      "B Grade\n"
     ]
    }
   ],
   "source": [
    "print(\"------------Marksheet-----------\")\n",
    "import csv\n",
    "userName = input(\"Enter Your Name \\t\")\n",
    "englishMarks = float(input(\"Enter your English marks \\t\"))\n",
    "if(englishMarks>100): print(\"Enter marks between 0 to 100\")  \n",
    "urduMarks = float(input(\"Enter your Urdu marks \\t\"))\n",
    "if(urduMarks>100):  print(\"Enter marks between 0 to 100\") \n",
    "mathsMarks = float(input(\"Enter your Maths marks \\t\"))\n",
    "if(mathsMarks>100): print(\"Enter marks between 0 to 100\")\n",
    "chemistryMarks = float(input(\"Enter your Chemistry marks \\t\"))\n",
    "if(chemistryMarks>100):print(\"Enter marks between 0 to 100\")\n",
    "physicsMarks = float(input(\"Enter your Physics marks \\t\"))\n",
    "if(physicsMarks>100): print(\"Enter marks between 0 to 100\")\n",
    "    \n",
    "totalMarks=500\n",
    "\n",
    "obtMarks=englishMarks+urduMarks+mathsMarks+chemistryMarks+physicsMarks\n",
    "\n",
    "print(\"Student obtain marks\",obtMarks)\n",
    "\n",
    "avg=(obtMarks/500)*100\n",
    "\n",
    "print(\"Percentage:\",avg)\n",
    "\n",
    "if(avg>=90):\n",
    "    userGrade = 'A Grade'\n",
    "    print(\"A Grade\")\n",
    "elif(avg>=75):\n",
    "    userGrade = 'B Grade'\n",
    "    print(\"B Grade\")\n",
    "elif(avg>=65):\n",
    "    userGrade = 'C Grade'\n",
    "    print(\"C Grade\")\n",
    "elif(avg>=45):\n",
    "    userGrade = 'D Grade'\n",
    "    print(\"D Grade\")\n",
    "else:\n",
    "    userGrade = 'Fail'\n",
    "    print(\"Fail!!\")\n",
    "    \n",
    "userData = [userName,englishMarks,urduMarks,mathsMarks,chemistryMarks,physicsMarks,obtMarks,totalMarks,float(avg),userGrade]\n",
    "\n",
    "with open(\"Marksheet.csv\",\"w\" ,newline=\"\") as f:\n",
    "        \n",
    "        file_handler = csv.writer(f, delimiter=',')    \n",
    "        \n",
    "        file_handler.writerow([\"Name\",\"English\",\"Urdu\",\"Maths\",\"Chemistry\",\"Physics\",\"Obtain Marks\",\"Total Marks\",\"Percentage\",\"Grade\"])\n",
    "        \n",
    "        file_handler.writerow(userData)\n",
    "    "
   ]
  },
  {
   "cell_type": "code",
   "execution_count": null,
   "metadata": {},
   "outputs": [],
   "source": []
  },
  {
   "cell_type": "code",
   "execution_count": null,
   "metadata": {},
   "outputs": [],
   "source": []
  }
 ],
 "metadata": {
  "kernelspec": {
   "display_name": "Python 3",
   "language": "python",
   "name": "python3"
  },
  "language_info": {
   "codemirror_mode": {
    "name": "ipython",
    "version": 3
   },
   "file_extension": ".py",
   "mimetype": "text/x-python",
   "name": "python",
   "nbconvert_exporter": "python",
   "pygments_lexer": "ipython3",
   "version": "3.7.3"
  }
 },
 "nbformat": 4,
 "nbformat_minor": 2
}
