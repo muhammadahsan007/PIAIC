{
 "cells": [
  {
   "cell_type": "code",
   "execution_count": 1,
   "metadata": {},
   "outputs": [
    {
     "name": "stdout",
     "output_type": "stream",
     "text": [
      "Start Tag : html\n",
      "Start Tag : head\n",
      "Start Tag : title\n",
      "Data      : Welcome Here\n",
      "End Tag   : title\n",
      "End Tag   : head\n",
      "Start Tag : body\n",
      "Start Tag : h1\n",
      "Data      : Hello Everyone!\n",
      "End Tag   : h1\n",
      "End Tag   : body\n",
      "End Tag   : html\n",
      "Total Tags:  6\n"
     ]
    }
   ],
   "source": [
    "# html Parser\n",
    "from html.parser import HTMLParser\n",
    "\n",
    "class MyHTMLParser(HTMLParser):\n",
    "    def handle_starttag(self, tag, attrs):\n",
    "        print(\"Start Tag :\", tag)\n",
    "    def handle_endtag(self, tag):\n",
    "        print(\"End Tag   :\", tag)\n",
    "    def handle_data(self, data):\n",
    "        print(\"Data      :\", data)\n",
    "\n",
    "parser = MyHTMLParser()\n",
    "parser.feed('<html><head><title>Welcome Here</title></head>'\n",
    "            '<body><h1>Hello Everyone!</h1></body></html>')\n",
    "# Tags Counter\n",
    "with open(\"example.html\", \"r\") as f:\n",
    "    fileContent = f.read()\n",
    "    pairedTags = fileContent.count('</')\n",
    "    unPairedTags = fileContent.count('/>')\n",
    "    totalTags = pairedTags + unPairedTags\n",
    "    print(\"Total Tags: \", totalTags)"
   ]
  },
  {
   "cell_type": "code",
   "execution_count": null,
   "metadata": {},
   "outputs": [],
   "source": []
  }
 ],
 "metadata": {
  "kernelspec": {
   "display_name": "Python 3",
   "language": "python",
   "name": "python3"
  },
  "language_info": {
   "codemirror_mode": {
    "name": "ipython",
    "version": 3
   },
   "file_extension": ".py",
   "mimetype": "text/x-python",
   "name": "python",
   "nbconvert_exporter": "python",
   "pygments_lexer": "ipython3",
   "version": "3.7.3"
  }
 },
 "nbformat": 4,
 "nbformat_minor": 2
}
