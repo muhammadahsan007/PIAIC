{
 "cells": [
  {
   "cell_type": "code",
   "execution_count": 1,
   "metadata": {},
   "outputs": [
    {
     "name": "stdout",
     "output_type": "stream",
     "text": [
      "------------Marksheet-----------\n",
      "Enter your English marks \t90\n",
      "Enter your Urdu marks \t70\n",
      "Enter your Maths marks \t65\n",
      "Enter your Chemistry marks \t78\n",
      "Enter your Physics marks \t95\n",
      "Student obtain marks 398\n",
      "Percentage: 79.60000000000001\n",
      "B Grade\n"
     ]
    }
   ],
   "source": [
    "print(\"------------Marksheet-----------\")\n",
    "English = int(input(\"Enter your English marks \\t\"))\n",
    "if(English>100): print(\"Enter marks between 0 to 100\")\n",
    "    \n",
    "Urdu = int(input(\"Enter your Urdu marks \\t\"))\n",
    "if(Urdu>100):  print(\"Enter marks between 0 to 100\")\n",
    "   \n",
    "Maths =int(input(\"Enter your Maths marks \\t\"))\n",
    "if(Maths>100): print(\"Enter marks between 0 to 100\")\n",
    "    \n",
    "Chemistry = int(input(\"Enter your Chemistry marks \\t\"))\n",
    "if(Chemistry>100):print(\"Enter marks between 0 to 100\")\n",
    "   \n",
    "Physics = int(input(\"Enter your Physics marks \\t\"))\n",
    "if(Physics>100): print(\"Enter marks between 0 to 100\")\n",
    "   \n",
    "obtmarks=English+Urdu+Maths+Chemistry+Physics\n",
    "\n",
    "print(\"Student obtain marks\",obtmarks)\n",
    "\n",
    "avg=(obtmarks/500)*100\n",
    "print(\"Percentage:\",avg)\n",
    "if(avg>=90):\n",
    "    print(\"A Grade\")\n",
    "elif(avg>=75):\n",
    "    print(\"B Grade\")\n",
    "elif(avg>=65):\n",
    "    print(\"C Grade\")\n",
    "elif(avg>=45):\n",
    "    print(\"D Grade\")\n",
    "else:\n",
    "    print(\"Fail!!\")\n",
    "    "
   ]
  },
  {
   "cell_type": "code",
   "execution_count": null,
   "metadata": {},
   "outputs": [],
   "source": []
  }
 ],
 "metadata": {
  "kernelspec": {
   "display_name": "Python 3",
   "language": "python",
   "name": "python3"
  },
  "language_info": {
   "codemirror_mode": {
    "name": "ipython",
    "version": 3
   },
   "file_extension": ".py",
   "mimetype": "text/x-python",
   "name": "python",
   "nbconvert_exporter": "python",
   "pygments_lexer": "ipython3",
   "version": "3.7.3"
  }
 },
 "nbformat": 4,
 "nbformat_minor": 2
}
