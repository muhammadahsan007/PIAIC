{
 "cells": [
  {
   "cell_type": "code",
   "execution_count": 5,
   "metadata": {},
   "outputs": [
    {
     "name": "stdout",
     "output_type": "stream",
     "text": [
      "Enter the radius of a circle: 28\n",
      "Area of a circle = 2461.76\n"
     ]
    }
   ],
   "source": [
    "#1) Calculate Area Of a Circle\n",
    "\n",
    "pi= 3.14\n",
    "radius = float(input(\"Enter the radius of a circle: \"))\n",
    "area = pi * radius * radius\n",
    "print(\"Area of a circle = %.2f\" %area)\n",
    "\n"
   ]
  },
  {
   "cell_type": "code",
   "execution_count": 1,
   "metadata": {},
   "outputs": [
    {
     "name": "stdout",
     "output_type": "stream",
     "text": [
      "Enter A Number: 35\n",
      "Positive Number Entered\n"
     ]
    }
   ],
   "source": [
    "#2) Check Number either positive, negative or zero\n",
    "\n",
    "def check_number(n):\n",
    "    if n == 0:\n",
    "        print(\"Zero Entered\")\n",
    "    elif n>0:\n",
    "        print(\"Positive Number Entered\")\n",
    "    else:\n",
    "        print(\"Negative Number Entered\")\n",
    "user_no = int(input(\"Enter A Number: \"))\n",
    "check_number(user_no)\n",
    "\n"
   ]
  },
  {
   "cell_type": "code",
   "execution_count": 4,
   "metadata": {},
   "outputs": [
    {
     "name": "stdout",
     "output_type": "stream",
     "text": [
      "Enter numerator: 10\n",
      "Enter denominator: 2\n",
      "Number 10 is Completely divisible by 2\n"
     ]
    }
   ],
   "source": [
    "#3) Divisibility Check of two numbers\n",
    "\n",
    "numerator = int(input(\"Enter numerator: \"))\n",
    "denominator = int(input(\"Enter denominator: \"))\n",
    "\n",
    "if numerator % denominator==0:\n",
    "    print(\"Number\",numerator, \"is Completely divisible by\",denominator)\n",
    "else:\n",
    "    print(\"Number\",numerator, \"is not Completely divisible by\",denominator)\n",
    "    \n",
    "    "
   ]
  },
  {
   "cell_type": "code",
   "execution_count": 9,
   "metadata": {},
   "outputs": [
    {
     "name": "stdout",
     "output_type": "stream",
     "text": [
      "Enter a date in (dd/mm/yy) format: 20/6/2019\n",
      "Enter a date in (dd/mm/yy) format: 23/6/2019\n",
      "There are  3 days in between  2019-06-20  and  2019-06-23\n"
     ]
    }
   ],
   "source": [
    "#4) Days Calculator\n",
    "\n",
    "from datetime import datetime\n",
    "\n",
    "startDate = input(\"Enter a date in (dd/mm/yy) format: \")\n",
    "endDate = input(\"Enter a date in (dd/mm/yy) format: \")\n",
    "\n",
    "Date1 = datetime.strptime(startDate,\"%d/%m/%Y\").date()\n",
    "Date2 = datetime.strptime(endDate,\"%d/%m/%Y\").date()\n",
    "\n",
    "remainingDays = Date2 - Date1\n",
    "\n",
    "print (\"There are \", remainingDays.days, \"days in between \", Date1,\" and \",Date2)\n"
   ]
  },
  {
   "cell_type": "code",
   "execution_count": 21,
   "metadata": {},
   "outputs": [
    {
     "name": "stdout",
     "output_type": "stream",
     "text": [
      "Enter Radius of Sphere: 2\n",
      "Volume of the Sphere with Radius: 24.19\n"
     ]
    }
   ],
   "source": [
    "#5) Calculate Volume Of Sphere\n",
    "\n",
    "import math\n",
    "\n",
    "radius = input(\"Enter Radius of Sphere: \")\n",
    "volume = 4.0/3.0 * math.pi * (r*r*r)\n",
    "r = float(radius)\n",
    "print(\"Volume of the Sphere with Radius: \" + str(radius)+ str(round(volume,2)))\n",
    "\n"
   ]
  },
  {
   "cell_type": "code",
   "execution_count": 22,
   "metadata": {},
   "outputs": [
    {
     "name": "stdout",
     "output_type": "stream",
     "text": [
      "Enter String: ahsan\n",
      "How many copies of String you need: 5\n",
      "ahsanahsanahsanahsanahsan\n"
     ]
    }
   ],
   "source": [
    "#6) Copy String n times\n",
    "\n",
    "a = str(input(\"Enter String: \"))\n",
    "result = \"\"\n",
    "b = int(input(\"How many copies of String you need: \"))\n",
    "print(b*a)\n",
    "\n"
   ]
  },
  {
   "cell_type": "code",
   "execution_count": 24,
   "metadata": {},
   "outputs": [
    {
     "name": "stdout",
     "output_type": "stream",
     "text": [
      "Enter Number: 54\n",
      "54 is Even\n"
     ]
    }
   ],
   "source": [
    "#7) Check If number is Even Or Odd\n",
    "\n",
    "num = int(input(\"Enter Number: \"))\n",
    "mod = num % 2\n",
    "if mod > 0:\n",
    "    print(num,\"is Odd\")\n",
    "else:\n",
    "    print(num,\"is Even\")\n",
    "    \n",
    "    "
   ]
  },
  {
   "cell_type": "code",
   "execution_count": 25,
   "metadata": {},
   "outputs": [
    {
     "name": "stdout",
     "output_type": "stream",
     "text": [
      "Enter a characterA\n",
      "A  is Vowel\n"
     ]
    }
   ],
   "source": [
    "#8) Vowel Tester\n",
    "\n",
    "vowels = ['a','e','i','o','u','A','E','I','O','U']\n",
    "\n",
    "userInput = input(\"Enter a character\")\n",
    "\n",
    "if userInput in vowels:\n",
    "    print(userInput, \" is Vowel\")\n",
    "else:\n",
    "    print(userInput,\" is not Vowel\")\n"
   ]
  },
  {
   "cell_type": "code",
   "execution_count": 26,
   "metadata": {},
   "outputs": [
    {
     "name": "stdout",
     "output_type": "stream",
     "text": [
      "Enter magnitude of Triangle base: 21\n",
      "Enter Magnitude of Triangle Height: 65\n",
      "Area of a Triangle with Height  65.0  and Base  21.0  is:  682.5\n"
     ]
    }
   ],
   "source": [
    "#9) Triangle Area\n",
    "\n",
    "magBase = float(input(\"Enter magnitude of Triangle base: \"))\n",
    "magHeight = float(input(\"Enter Magnitude of Triangle Height: \"))\n",
    "area = magBase*magHeight/2\n",
    "print(\"Area of a Triangle with Height \",magHeight, \" and Base \",magBase,\" is: \",area)\n"
   ]
  },
  {
   "cell_type": "code",
   "execution_count": 28,
   "metadata": {},
   "outputs": [
    {
     "name": "stdout",
     "output_type": "stream",
     "text": [
      "Please enter principal amount: 21\n",
      "Please Enter Rate of interest in %: 2\n",
      "Enter number of years for investment: 10\n",
      "1240029.0\n"
     ]
    }
   ],
   "source": [
    "#10) Calculate Interest\n",
    "\n",
    "p = float(input(\"Please enter principal amount: \"))\n",
    "r = float(input(\"Please Enter Rate of interest in %: \"))\n",
    "t = float(input(\"Enter number of years for investment: \"))\n",
    "a = p* (pow((1 + r*100 / 100), t))\n",
    "print(a)\n",
    "\n"
   ]
  },
  {
   "cell_type": "code",
   "execution_count": 29,
   "metadata": {},
   "outputs": [
    {
     "name": "stdout",
     "output_type": "stream",
     "text": [
      "Enter Co-Ordinate For x1 :20\n",
      "Enter Co-Ordinate For x2 :1\n",
      "Enter Co-Ordinate For y1 :3\n",
      "Enter Co-Ordinate For y2 :36\n",
      "38.91015291668744\n"
     ]
    }
   ],
   "source": [
    "#11) Euclidean distcance\n",
    "\n",
    "import math\n",
    "\n",
    "x1 = int(input(\"Enter Co-Ordinate For x1 :\"))\n",
    "x2 = int(input(\"Enter Co-Ordinate For x2 :\"))\n",
    "y1 = int(input(\"Enter Co-Ordinate For y1 :\"))\n",
    "y2 = int(input(\"Enter Co-Ordinate For y2 :\"))\n",
    "\n",
    "distance = math.sqrt( ((x1-y1)**2)+((x2-y2)**2) )\n",
    "\n",
    "print(distance)\n",
    "\n"
   ]
  },
  {
   "cell_type": "code",
   "execution_count": 1,
   "metadata": {},
   "outputs": [
    {
     "name": "stdout",
     "output_type": "stream",
     "text": [
      "Enter Height in Feet : 6.2\n",
      "There are 188.976 cm in 6.2 ft\n"
     ]
    }
   ],
   "source": [
    "#12) Feet to centimeter Converter\n",
    "\n",
    "ft = float(input(\"Enter Height in Feet : \"))\n",
    "print(\"There are\", ft * 30.48,\"cm\",\"in\",ft,\"ft\" )\n"
   ]
  },
  {
   "cell_type": "code",
   "execution_count": 3,
   "metadata": {},
   "outputs": [
    {
     "name": "stdout",
     "output_type": "stream",
     "text": [
      "Enter Your Height in Cm: 188\n",
      "Enter Your Weight in kg: 82\n",
      "23.200543232231773\n"
     ]
    }
   ],
   "source": [
    "#13) BMI Calculator\n",
    "\n",
    "userHeight = float(input(\"Enter Your Height in Cm: \"))\n",
    "userWeight = float(input(\"Enter Your Weight in kg: \"))\n",
    "\n",
    "heightInMeters = userHeight * 0.01\n",
    "\n",
    "\n",
    "totalBmi = userWeight / (heightInMeters * heightInMeters)\n",
    "\n",
    "\n",
    "print(totalBmi)\n"
   ]
  },
  {
   "cell_type": "code",
   "execution_count": 6,
   "metadata": {},
   "outputs": [
    {
     "name": "stdout",
     "output_type": "stream",
     "text": [
      "Enter Number Of n: -2\n",
      "-2  is not positive Number\n"
     ]
    }
   ],
   "source": [
    "#14) Sum of n Positive Number\n",
    "\n",
    "sumNumber = 0\n",
    "\n",
    "userNumber =int(input(\"Enter Number Of n: \"))\n",
    "\n",
    "if userNumber >=0:\n",
    "    total = int(userNumber * (userNumber + 1)/2)\n",
    "    print(total)\n",
    "else:\n",
    "    print(userNumber,\" is not positive Number\")\n",
    "    \n",
    "    "
   ]
  },
  {
   "cell_type": "code",
   "execution_count": 2,
   "metadata": {},
   "outputs": [
    {
     "name": "stdout",
     "output_type": "stream",
     "text": [
      "Enter a Number25\n",
      "2 + 5\n",
      "Sum Of  2 + 5  is  7\n"
     ]
    }
   ],
   "source": [
    "#15) Digit sum of a Number\n",
    "\n",
    "number =int(input(\"Enter a Number\"))\n",
    "\n",
    "sumnum = str(number)\n",
    "\n",
    "lst = list(sumnum)\n",
    "\n",
    "\n",
    "totalDigits = ' + '.join(sumnum)\n",
    "\n",
    "print(totalDigits)\n",
    "\n",
    "total = 0\n",
    "\n",
    "while number>0:\n",
    "    digit = number%10\n",
    "    total = total+digit\n",
    "    number = number//10\n",
    "print(\"Sum Of \", totalDigits, \" is \", total)\n"
   ]
  },
  {
   "cell_type": "code",
   "execution_count": 3,
   "metadata": {},
   "outputs": [
    {
     "name": "stdout",
     "output_type": "stream",
     "text": [
      "Enter a decimal number 35\n",
      "100011"
     ]
    }
   ],
   "source": [
    "#16) Decimal To Binary Converter\n",
    "\n",
    "def DecimalToBinary(number):\n",
    "    if number > 0:\n",
    "        DecimalToBinary(number //2)\n",
    "        print(number % 2 ,end='')\n",
    "\n",
    "decimalNumber = int(input(\"Enter a decimal number \"))\n",
    "\n",
    "DecimalToBinary(decimalNumber)\n"
   ]
  },
  {
   "cell_type": "code",
   "execution_count": 4,
   "metadata": {},
   "outputs": [
    {
     "name": "stdout",
     "output_type": "stream",
     "text": [
      "Enter a Binary number 0\n",
      "Decimal Representation of  0  is  0\n"
     ]
    }
   ],
   "source": [
    "#17) Binary To Decimal Converter\n",
    "\n",
    "bn = input(\"Enter a Binary number \")\n",
    "binaryNumber = list(bn)\n",
    "defaultValue = 0\n",
    "abc = str(binaryNumber)\n",
    "\n",
    "for d in range(len(binaryNumber)):\n",
    "    numbers = binaryNumber.pop()\n",
    "    if numbers == '1':\n",
    "        defaultValue = defaultValue + pow(2, d)\n",
    "print(\"Decimal Representation of \", bn,\" is \" ,defaultValue)\n",
    "    \n",
    " "
   ]
  },
  {
   "cell_type": "code",
   "execution_count": 6,
   "metadata": {},
   "outputs": [
    {
     "name": "stdout",
     "output_type": "stream",
     "text": [
      "Enter Text Muhammad Ahsan\n",
      "Vowels :  5\n",
      "Consonants :  9\n"
     ]
    }
   ],
   "source": [
    "#18) Vowel and Consonants Counter \n",
    "\n",
    "userInput = input(\"Enter Text \")\n",
    "vowels = 0\n",
    "consonants = 0\n",
    "for i in userInput:\n",
    "    if(i == 'a' or i == 'e' or i == 'i' or i == 'o' or i == 'u'\n",
    "       or i == 'A' or i == 'E' or i == 'I' or i == 'O' or i == 'U'):\n",
    "        vowels = vowels + 1\n",
    "    else:\n",
    "        consonants = consonants + 1\n",
    "\n",
    "print(\"Vowels : \",vowels)\n",
    "print(\"Consonants : \",consonants)\n",
    "\n"
   ]
  },
  {
   "cell_type": "code",
   "execution_count": 7,
   "metadata": {},
   "outputs": [
    {
     "name": "stdout",
     "output_type": "stream",
     "text": [
      "Enter Text :civic\n",
      "Text  civic  is Palindrome\n"
     ]
    }
   ],
   "source": [
    "#19) Palindrome tester \n",
    "\n",
    "userInput = input(\"Enter Text :\")\n",
    "palindrome = userInput[::-1]\n",
    "if userInput == palindrome:\n",
    "    print(\"Text \" , userInput,\" is Palindrome\")\n",
    "else:\n",
    "    print(\"Text \" , userInput,\" is not Palindrome\")\n"
   ]
  },
  {
   "cell_type": "code",
   "execution_count": 8,
   "metadata": {},
   "outputs": [
    {
     "name": "stdout",
     "output_type": "stream",
     "text": [
      "Please Enter your Own String : Muhammad_Ahsan_007\n",
      "\n",
      "Total Number of Alphabets in this String :   13\n",
      "Total Number of Digits in this String :   3\n",
      "Total Number of Special Characters in this String :   2\n",
      "0\n"
     ]
    }
   ],
   "source": [
    "#20 Count Alphabets, Numbers and Special Characters  \n",
    "\n",
    "string = input(\"Please Enter your Own String : \")\n",
    "alphabets = digits = special = 0\n",
    "xyz = string.count(' ')\n",
    "for i in range(len(string)):\n",
    "    if(string[i].isalpha()):\n",
    "        alphabets = alphabets + 1\n",
    "    elif(string[i].isdigit()):\n",
    "        digits = digits + 1\n",
    "    else:\n",
    "        special = special + 1\n",
    "\n",
    "rst = special - xyz\n",
    "print(\"\\nTotal Number of Alphabets in this String :  \", alphabets)\n",
    "print(\"Total Number of Digits in this String :  \", digits)\n",
    "print(\"Total Number of Special Characters in this String :  \", rst) \n",
    "print(xyz)\n",
    "\n"
   ]
  },
  {
   "cell_type": "code",
   "execution_count": 9,
   "metadata": {},
   "outputs": [
    {
     "name": "stdout",
     "output_type": "stream",
     "text": [
      "\n",
      "* \n",
      "* * \n",
      "* * * \n",
      "* * * * \n",
      "* * * * * \n",
      "* * * * \n",
      "* * * \n",
      "* * \n",
      "* \n"
     ]
    }
   ],
   "source": [
    "#21) Pattern Style 1 \n",
    "\n",
    "n=5;\n",
    "for i in range(n):\n",
    "    for j in range(i):\n",
    "        print ('* ', end=\"\")\n",
    "        \n",
    "    print('')\n",
    "\n",
    "for i in range(n,0,-1):\n",
    "    for j in range(i):\n",
    "        print('* ', end=\"\")\n",
    "    print('')\n"
   ]
  },
  {
   "cell_type": "code",
   "execution_count": 10,
   "metadata": {},
   "outputs": [
    {
     "name": "stdout",
     "output_type": "stream",
     "text": [
      "\n",
      "1\n",
      "12\n",
      "123\n",
      "1234\n",
      "12345\n",
      "1234\n",
      "123\n",
      "12\n",
      "1\n"
     ]
    }
   ],
   "source": [
    "#22) Pattern Style 2 \n",
    "\n",
    "n=5\n",
    "r = 1\n",
    "for i in range(n):\n",
    "    for j in range(i):\n",
    "        print (j+1, end=\"\")\n",
    "    \n",
    "    print('')\n",
    "\n",
    "for i in range(5,0,-1):\n",
    "    for j in range(i):\n",
    "        print(j+1, end=\"\")\n",
    "    print('')\n",
    "    \n",
    "    "
   ]
  },
  {
   "cell_type": "code",
   "execution_count": 11,
   "metadata": {},
   "outputs": [
    {
     "name": "stdout",
     "output_type": "stream",
     "text": [
      "\n",
      "1\n",
      "22\n",
      "333\n",
      "4444\n",
      "55555\n",
      "666666\n",
      "7777777\n",
      "88888888\n",
      "999999999\n"
     ]
    }
   ],
   "source": [
    "#23) Pattern Style 3\n",
    "\n",
    "for i in range(10):\n",
    "    print(str(i) * i)\n",
    "    \n",
    "    "
   ]
  },
  {
   "cell_type": "code",
   "execution_count": null,
   "metadata": {},
   "outputs": [],
   "source": []
  }
 ],
 "metadata": {
  "kernelspec": {
   "display_name": "Python 3",
   "language": "python",
   "name": "python3"
  },
  "language_info": {
   "codemirror_mode": {
    "name": "ipython",
    "version": 3
   },
   "file_extension": ".py",
   "mimetype": "text/x-python",
   "name": "python",
   "nbconvert_exporter": "python",
   "pygments_lexer": "ipython3",
   "version": "3.7.3"
  }
 },
 "nbformat": 4,
 "nbformat_minor": 2
}
